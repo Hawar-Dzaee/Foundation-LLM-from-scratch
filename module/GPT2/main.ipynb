{
 "cells": [
  {
   "cell_type": "code",
   "execution_count": 1,
   "metadata": {},
   "outputs": [],
   "source": [
    "import os \n",
    "\n",
    "import yaml\n",
    "import tiktoken\n",
    "import torch\n",
    "from torch import nn\n",
    "import wandb\n",
    "\n",
    "from processing_data.dataset import Data,ClassificationDataset\n",
    "from processing_data.dataloader import get_data_loader\n",
    "from embeddings import Embeddings\n",
    "from transformer_block import TransformerBlock\n",
    "from gpt2 import GPT2Model\n",
    "from utils import text_to_tokens,tokens_to_text\n",
    "from loss import cross_entropy,classification_loss\n",
    "from train import Trainer\n",
    "\n",
    "# from dotenv import load_dotenv\n",
    "\n",
    "\n",
    "with open(\"config.yaml\",\"r\") as f:\n",
    "    config = yaml.safe_load(f)\n",
    "\n",
    "with open(\"generate_text_config.yaml\",\"r\") as f:\n",
    "    generate_text_config = yaml.safe_load(f)\n"
   ]
  },
  {
   "cell_type": "code",
   "execution_count": 2,
   "metadata": {},
   "outputs": [
    {
     "name": "stdout",
     "output_type": "stream",
     "text": [
      "True\n"
     ]
    }
   ],
   "source": [
    "# API Keys \n",
    "# print(load_dotenv()) \n",
    "# os.environ[\"WANDB_API_KEY\"] = os.getenv(\"WANDB_API_KEY\")"
   ]
  },
  {
   "cell_type": "code",
   "execution_count": 2,
   "metadata": {},
   "outputs": [],
   "source": [
    "# turn off scientific notation\n",
    "# torch.set_printoptions(sci_mode=False,precision=10) \n",
    "\n",
    "# read the-verdict.txt\n",
    "with open(\"raw_data/the-verdict.txt\",\"r\") as f: \n",
    "    raw_text = f.read()"
   ]
  },
  {
   "cell_type": "code",
   "execution_count": 3,
   "metadata": {},
   "outputs": [],
   "source": [
    "train_dateset = ClassificationDataset(\n",
    "    csv_path='raw_data/sms_spam_collection/train.csv',\n",
    "    tokenizer=tiktoken.get_encoding(\"gpt2\"),\n",
    "    max_len=None\n",
    ")\n",
    "val_dataset = ClassificationDataset(\n",
    "    csv_path='raw_data/sms_spam_collection/val.csv',\n",
    "    tokenizer=tiktoken.get_encoding(\"gpt2\"),\n",
    "    max_len=train_dateset.max_len\n",
    ")\n",
    "\n",
    "test_dataset = ClassificationDataset(\n",
    "    csv_path='raw_data/sms_spam_collection/test.csv',\n",
    "    tokenizer=tiktoken.get_encoding(\"gpt2\"),\n",
    "    max_len=train_dateset.max_len\n",
    ")\n",
    "\n",
    "train_dl = get_data_loader(train_dateset,batch_size=32,shuffle=False,drop_last=True,num_workers=0)\n",
    "val_dl = get_data_loader(val_dataset,batch_size=32,shuffle=False,drop_last=True,num_workers=0)\n",
    "test_dl = get_data_loader(test_dataset,batch_size=32,shuffle=False,drop_last=True,num_workers=0)"
   ]
  },
  {
   "cell_type": "code",
   "execution_count": 4,
   "metadata": {},
   "outputs": [
    {
     "data": {
      "text/plain": [
       "118"
      ]
     },
     "execution_count": 4,
     "metadata": {},
     "output_type": "execute_result"
    }
   ],
   "source": [
    "train_dateset.max_len"
   ]
  },
  {
   "cell_type": "code",
   "execution_count": 13,
   "metadata": {},
   "outputs": [
    {
     "name": "stdout",
     "output_type": "stream",
     "text": [
      "torch.Size([32, 118])\n",
      "----------------------------------------------------------------------------------------------------\n",
      "torch.Size([32])\n",
      "torch.Size([32, 118])\n",
      "----------------------------------------------------------------------------------------------------\n",
      "torch.Size([32])\n",
      "torch.Size([32, 118])\n",
      "----------------------------------------------------------------------------------------------------\n",
      "torch.Size([32])\n",
      "torch.Size([32, 118])\n",
      "----------------------------------------------------------------------------------------------------\n",
      "torch.Size([32])\n",
      "torch.Size([32, 118])\n",
      "----------------------------------------------------------------------------------------------------\n",
      "torch.Size([32])\n",
      "torch.Size([32, 118])\n",
      "----------------------------------------------------------------------------------------------------\n",
      "torch.Size([32])\n",
      "torch.Size([32, 118])\n",
      "----------------------------------------------------------------------------------------------------\n",
      "torch.Size([32])\n",
      "torch.Size([32, 118])\n",
      "----------------------------------------------------------------------------------------------------\n",
      "torch.Size([32])\n",
      "torch.Size([32, 118])\n",
      "----------------------------------------------------------------------------------------------------\n",
      "torch.Size([32])\n",
      "torch.Size([32, 118])\n",
      "----------------------------------------------------------------------------------------------------\n",
      "torch.Size([32])\n",
      "torch.Size([32, 118])\n",
      "----------------------------------------------------------------------------------------------------\n",
      "torch.Size([32])\n",
      "torch.Size([32, 118])\n",
      "----------------------------------------------------------------------------------------------------\n",
      "torch.Size([32])\n",
      "torch.Size([32, 118])\n",
      "----------------------------------------------------------------------------------------------------\n",
      "torch.Size([32])\n",
      "torch.Size([32, 118])\n",
      "----------------------------------------------------------------------------------------------------\n",
      "torch.Size([32])\n",
      "torch.Size([32, 118])\n",
      "----------------------------------------------------------------------------------------------------\n",
      "torch.Size([32])\n",
      "torch.Size([32, 118])\n",
      "----------------------------------------------------------------------------------------------------\n",
      "torch.Size([32])\n",
      "torch.Size([32, 118])\n",
      "----------------------------------------------------------------------------------------------------\n",
      "torch.Size([32])\n",
      "torch.Size([32, 118])\n",
      "----------------------------------------------------------------------------------------------------\n",
      "torch.Size([32])\n",
      "torch.Size([32, 118])\n",
      "----------------------------------------------------------------------------------------------------\n",
      "torch.Size([32])\n",
      "torch.Size([32, 118])\n",
      "----------------------------------------------------------------------------------------------------\n",
      "torch.Size([32])\n",
      "torch.Size([32, 118])\n",
      "----------------------------------------------------------------------------------------------------\n",
      "torch.Size([32])\n",
      "torch.Size([32, 118])\n",
      "----------------------------------------------------------------------------------------------------\n",
      "torch.Size([32])\n",
      "torch.Size([32, 118])\n",
      "----------------------------------------------------------------------------------------------------\n",
      "torch.Size([32])\n",
      "torch.Size([32, 118])\n",
      "----------------------------------------------------------------------------------------------------\n",
      "torch.Size([32])\n",
      "torch.Size([32, 118])\n",
      "----------------------------------------------------------------------------------------------------\n",
      "torch.Size([32])\n",
      "torch.Size([32, 118])\n",
      "----------------------------------------------------------------------------------------------------\n",
      "torch.Size([32])\n",
      "torch.Size([32, 118])\n",
      "----------------------------------------------------------------------------------------------------\n",
      "torch.Size([32])\n",
      "torch.Size([32, 118])\n",
      "----------------------------------------------------------------------------------------------------\n",
      "torch.Size([32])\n",
      "torch.Size([32, 118])\n",
      "----------------------------------------------------------------------------------------------------\n",
      "torch.Size([32])\n",
      "torch.Size([32, 118])\n",
      "----------------------------------------------------------------------------------------------------\n",
      "torch.Size([32])\n",
      "torch.Size([32, 118])\n",
      "----------------------------------------------------------------------------------------------------\n",
      "torch.Size([32])\n",
      "torch.Size([32, 118])\n",
      "----------------------------------------------------------------------------------------------------\n",
      "torch.Size([32])\n"
     ]
    }
   ],
   "source": [
    "for x,y in train_dl:\n",
    "    print(x.shape)\n",
    "    print('-'*100)\n",
    "    print(y.shape)"
   ]
  },
  {
   "cell_type": "code",
   "execution_count": 11,
   "metadata": {},
   "outputs": [
    {
     "data": {
      "text/plain": [
       "32"
      ]
     },
     "execution_count": 11,
     "metadata": {},
     "output_type": "execute_result"
    }
   ],
   "source": [
    "len(train_dl)"
   ]
  },
  {
   "cell_type": "markdown",
   "metadata": {},
   "source": [
    "# Dataset & DataLoader "
   ]
  },
  {
   "cell_type": "code",
   "execution_count": 3,
   "metadata": {},
   "outputs": [],
   "source": [
    "train_ratio = 0.9\n",
    "split_index = int(len(raw_text) * train_ratio)\n",
    "train_text = raw_text[:split_index]\n",
    "val_text = raw_text[split_index:]\n"
   ]
  },
  {
   "cell_type": "code",
   "execution_count": 4,
   "metadata": {},
   "outputs": [],
   "source": [
    "train_dataset = Data(\n",
    "    raw_text=train_text,\n",
    "    tokenizer=tiktoken.get_encoding(\"gpt2\"),\n",
    "    context_length=config[\"context_window\"],\n",
    "    stride=config[\"stride\"]\n",
    ")\n",
    "\n",
    "val_dataset = Data(\n",
    "    raw_text=val_text,\n",
    "    tokenizer=tiktoken.get_encoding(\"gpt2\"),\n",
    "    context_length=config[\"context_window\"],\n",
    "    stride=config[\"stride\"]\n",
    ")\n",
    "\n",
    "train_dl = get_data_loader(\n",
    "    train_dataset,\n",
    "    batch_size=config[\"batch_size\"],\n",
    "    shuffle=config[\"shuffle\"],\n",
    "    drop_last=config[\"drop_last\"],\n",
    "    num_workers=config[\"num_workers\"]\n",
    "    )\n",
    "\n",
    "val_dl = get_data_loader(\n",
    "    val_dataset,\n",
    "    batch_size=config[\"batch_size\"],\n",
    "    shuffle=config[\"shuffle\"],\n",
    "    drop_last=config[\"drop_last\"],\n",
    "    num_workers=config[\"num_workers\"]\n",
    ")\n"
   ]
  },
  {
   "cell_type": "code",
   "execution_count": 6,
   "metadata": {},
   "outputs": [],
   "source": [
    "# for x,y in train_dl:\n",
    "#     print(x.shape)\n",
    "    # print(y.shape)\n"
   ]
  },
  {
   "cell_type": "code",
   "execution_count": 8,
   "metadata": {},
   "outputs": [],
   "source": [
    "# train_tokens = 0 \n",
    "# for x,y in train_dl:\n",
    "#     train_tokens += x.numel()\n",
    "# print(f\"Train tokens: {train_tokens}\")\n",
    "\n",
    "# val_tokens = 0\n",
    "# for x,y in val_dl:\n",
    "#     val_tokens += x.numel()\n",
    "# print(f\"Val tokens: {val_tokens}\")\n",
    "\n",
    "\n",
    "# print(f'total tokens: {train_tokens + val_tokens}')"
   ]
  },
  {
   "cell_type": "code",
   "execution_count": 5,
   "metadata": {},
   "outputs": [],
   "source": [
    "\n",
    "model = GPT2Model(config)\n",
    "optimizer = torch.optim.AdamW(model.parameters(),lr=0.0004)\n",
    "\n",
    "# with torch.no_grad():\n",
    "#     logits = model(x)\n",
    "\n",
    "#     print(logits.shape)\n"
   ]
  },
  {
   "cell_type": "markdown",
   "metadata": {},
   "source": [
    "# Wandb"
   ]
  },
  {
   "cell_type": "code",
   "execution_count": 6,
   "metadata": {},
   "outputs": [
    {
     "name": "stderr",
     "output_type": "stream",
     "text": [
      "\u001b[34m\u001b[1mwandb\u001b[0m: Currently logged in as: \u001b[33mhawardizayee\u001b[0m (\u001b[33mhawardizayee-unitedhealthcare\u001b[0m) to \u001b[32mhttps://api.wandb.ai\u001b[0m. Use \u001b[1m`wandb login --relogin`\u001b[0m to force relogin\n"
     ]
    },
    {
     "data": {
      "text/html": [
       "Tracking run with wandb version 0.19.11"
      ],
      "text/plain": [
       "<IPython.core.display.HTML object>"
      ]
     },
     "metadata": {},
     "output_type": "display_data"
    },
    {
     "data": {
      "text/html": [
       "Run data is saved locally in <code>/Users/hawardzaee/Desktop/Galaxy/MyLabV2/Foundation-LLM-from-scratch/module/GPT2/wandb/run-20250512_191843-f9q9kazy</code>"
      ],
      "text/plain": [
       "<IPython.core.display.HTML object>"
      ]
     },
     "metadata": {},
     "output_type": "display_data"
    },
    {
     "data": {
      "text/html": [
       "Syncing run <strong><a href='https://wandb.ai/hawardizayee-unitedhealthcare/Foundation_models/runs/f9q9kazy' target=\"_blank\">accuracy round 2</a></strong> to <a href='https://wandb.ai/hawardizayee-unitedhealthcare/Foundation_models' target=\"_blank\">Weights & Biases</a> (<a href='https://wandb.me/developer-guide' target=\"_blank\">docs</a>)<br>"
      ],
      "text/plain": [
       "<IPython.core.display.HTML object>"
      ]
     },
     "metadata": {},
     "output_type": "display_data"
    },
    {
     "data": {
      "text/html": [
       " View project at <a href='https://wandb.ai/hawardizayee-unitedhealthcare/Foundation_models' target=\"_blank\">https://wandb.ai/hawardizayee-unitedhealthcare/Foundation_models</a>"
      ],
      "text/plain": [
       "<IPython.core.display.HTML object>"
      ]
     },
     "metadata": {},
     "output_type": "display_data"
    },
    {
     "data": {
      "text/html": [
       " View run at <a href='https://wandb.ai/hawardizayee-unitedhealthcare/Foundation_models/runs/f9q9kazy' target=\"_blank\">https://wandb.ai/hawardizayee-unitedhealthcare/Foundation_models/runs/f9q9kazy</a>"
      ],
      "text/plain": [
       "<IPython.core.display.HTML object>"
      ]
     },
     "metadata": {},
     "output_type": "display_data"
    },
    {
     "data": {
      "text/html": [
       "<button onClick=\"this.nextSibling.style.display='block';this.style.display='none';\">Display W&B run</button><iframe src='https://wandb.ai/hawardizayee-unitedhealthcare/Foundation_models/runs/f9q9kazy?jupyter=true' style='border:none;width:100%;height:420px;display:none;'></iframe>"
      ],
      "text/plain": [
       "<wandb.sdk.wandb_run.Run at 0x16a0ddd60>"
      ]
     },
     "execution_count": 6,
     "metadata": {},
     "output_type": "execute_result"
    }
   ],
   "source": [
    "wandb.init(\n",
    "    project=\"Foundation_models\",\n",
    "    name=\"accuracy round 2\",\n",
    "    config=config\n",
    ")"
   ]
  },
  {
   "cell_type": "code",
   "execution_count": 7,
   "metadata": {},
   "outputs": [],
   "source": [
    "trainer = Trainer(\n",
    "    model,\n",
    "    train_dl,\n",
    "    val_dl,\n",
    "    loss_fn=cross_entropy,\n",
    "    optimizer=optimizer,\n",
    "    config=config,\n",
    "    device=\"cpu\",\n",
    "    generate_text_config=generate_text_config\n",
    ")"
   ]
  },
  {
   "cell_type": "code",
   "execution_count": 8,
   "metadata": {},
   "outputs": [
    {
     "name": "stderr",
     "output_type": "stream",
     "text": [
      "2025-05-12 19:18:50,108 - INFO - Epoch 1/10\n",
      "2025-05-12 19:19:07,018 - INFO - Train loss: 9.211953587002224, Val loss: 7.687678813934326, Train acc: 0.03624131944444445, Val acc: 0.044921875\n",
      "2025-05-12 19:19:07,838 - INFO - Generated text: Every single step. ,,-- ., the the-- ,, the, , the.\n",
      "2025-05-12 19:19:07,838 - INFO - Epoch 2/10\n",
      "2025-05-12 19:19:24,392 - INFO - Train loss: 6.710766315460205, Val loss: 6.732245445251465, Train acc: 0.049262152777777776, Val acc: 0.0234375\n",
      "2025-05-12 19:19:25,067 - INFO - Generated text: Every single step, \"      ,, the      . \n",
      "2025-05-12 19:19:25,067 - INFO - Epoch 3/10\n",
      "2025-05-12 19:19:41,198 - INFO - Train loss: 6.3690649138556585, Val loss: 6.638359069824219, Train acc: 0.058159722222222224, Val acc: 0.052734375\n",
      "2025-05-12 19:19:41,908 - INFO - Generated text: Every single step a of the----, the--, of the, the of the of, the,,\n",
      "2025-05-12 19:19:41,908 - INFO - Epoch 4/10\n",
      "2025-05-12 19:19:56,984 - INFO - Train loss: 5.825989829169379, Val loss: 6.647461891174316, Train acc: 0.09722222222222222, Val acc: 0.068359375\n",
      "2025-05-12 19:19:57,629 - INFO - Generated text: Every single step, I I had.  \" the,.\".      \"\n",
      "2025-05-12 19:19:57,630 - INFO - Epoch 5/10\n",
      "2025-05-12 19:20:15,306 - INFO - Train loss: 5.760788334740533, Val loss: 6.6304497718811035, Train acc: 0.09331597222222222, Val acc: 0.072265625\n",
      "2025-05-12 19:20:16,027 - INFO - Generated text: Every single step I had the, the of,--.    \",. G, the.\n",
      "2025-05-12 19:20:16,027 - INFO - Epoch 6/10\n",
      "2025-05-12 19:20:32,637 - INFO - Train loss: 5.573976887596978, Val loss: 6.514750003814697, Train acc: 0.1115451388888889, Val acc: 0.068359375\n",
      "2025-05-12 19:20:33,323 - INFO - Generated text: Every single step had of I the-- the a I a the of a a a I had the.  \n",
      "2025-05-12 19:20:33,324 - INFO - Epoch 7/10\n",
      "2025-05-12 19:20:48,102 - INFO - Train loss: 5.3964655134412975, Val loss: 6.544022560119629, Train acc: 0.1306423611111111, Val acc: 0.08203125\n",
      "2025-05-12 19:20:48,763 - INFO - Generated text: Every single step that a              \" I was the\n",
      "2025-05-12 19:20:48,763 - INFO - Epoch 8/10\n",
      "2025-05-12 19:21:06,925 - INFO - Train loss: 5.157639079623753, Val loss: 6.402286529541016, Train acc: 0.1421440972222222, Val acc: 0.087890625\n",
      "2025-05-12 19:21:07,655 - INFO - Generated text: Every single step-- through I a the, the, and I felt to a the, and a.  \n",
      "2025-05-12 19:21:07,655 - INFO - Epoch 9/10\n",
      "2025-05-12 19:21:22,327 - INFO - Train loss: 4.637348863813612, Val loss: 6.2909698486328125, Train acc: 0.17708333333333334, Val acc: 0.1015625\n",
      "2025-05-12 19:21:22,979 - INFO - Generated text: Every single step a I I had been the the.       \" I the it was\n",
      "2025-05-12 19:21:22,980 - INFO - Epoch 10/10\n",
      "2025-05-12 19:21:38,516 - INFO - Train loss: 4.0321828789181176, Val loss: 6.17617654800415, Train acc: 0.2419704861111111, Val acc: 0.1171875\n",
      "2025-05-12 19:21:39,217 - INFO - Generated text: Every single step, I had the, I was just. The--I, in a of his. Gis\n"
     ]
    },
    {
     "data": {
      "text/plain": [
       "([9.211953587002224,\n",
       "  6.710766315460205,\n",
       "  6.3690649138556585,\n",
       "  5.825989829169379,\n",
       "  5.760788334740533,\n",
       "  5.573976887596978,\n",
       "  5.3964655134412975,\n",
       "  5.157639079623753,\n",
       "  4.637348863813612,\n",
       "  4.0321828789181176],\n",
       " [7.687678813934326,\n",
       "  6.732245445251465,\n",
       "  6.638359069824219,\n",
       "  6.647461891174316,\n",
       "  6.6304497718811035,\n",
       "  6.514750003814697,\n",
       "  6.544022560119629,\n",
       "  6.402286529541016,\n",
       "  6.2909698486328125,\n",
       "  6.17617654800415],\n",
       " [0.03624131944444445,\n",
       "  0.049262152777777776,\n",
       "  0.058159722222222224,\n",
       "  0.09722222222222222,\n",
       "  0.09331597222222222,\n",
       "  0.1115451388888889,\n",
       "  0.1306423611111111,\n",
       "  0.1421440972222222,\n",
       "  0.17708333333333334,\n",
       "  0.2419704861111111],\n",
       " [0.044921875,\n",
       "  0.0234375,\n",
       "  0.052734375,\n",
       "  0.068359375,\n",
       "  0.072265625,\n",
       "  0.068359375,\n",
       "  0.08203125,\n",
       "  0.087890625,\n",
       "  0.1015625,\n",
       "  0.1171875])"
      ]
     },
     "execution_count": 8,
     "metadata": {},
     "output_type": "execute_result"
    }
   ],
   "source": [
    "trainer.train(epochs=10,generate_text=True)"
   ]
  },
  {
   "cell_type": "code",
   "execution_count": 9,
   "metadata": {},
   "outputs": [
    {
     "name": "stderr",
     "output_type": "stream",
     "text": [
      "\u001b[34m\u001b[1mwandb\u001b[0m: \u001b[32m\u001b[41mERROR\u001b[0m The nbformat package was not found. It is required to save notebook history.\n"
     ]
    },
    {
     "data": {
      "text/html": [],
      "text/plain": [
       "<IPython.core.display.HTML object>"
      ]
     },
     "metadata": {},
     "output_type": "display_data"
    },
    {
     "data": {
      "text/html": [
       "<br>    <style><br>        .wandb-row {<br>            display: flex;<br>            flex-direction: row;<br>            flex-wrap: wrap;<br>            justify-content: flex-start;<br>            width: 100%;<br>        }<br>        .wandb-col {<br>            display: flex;<br>            flex-direction: column;<br>            flex-basis: 100%;<br>            flex: 1;<br>            padding: 10px;<br>        }<br>    </style><br><div class=\"wandb-row\"><div class=\"wandb-col\"><h3>Run history:</h3><br/><table class=\"wandb\"><tr><td>seen tokens</td><td>▁▂▃▃▄▅▆▆▇█</td></tr><tr><td>train acc</td><td>▁▁▂▃▃▄▄▅▆█</td></tr><tr><td>train loss</td><td>█▅▄▃▃▃▃▃▂▁</td></tr><tr><td>val acc</td><td>▃▁▃▄▅▄▅▆▇█</td></tr><tr><td>val loss</td><td>█▄▃▃▃▃▃▂▂▁</td></tr></table><br/></div><div class=\"wandb-col\"><h3>Run summary:</h3><br/><table class=\"wandb\"><tr><td>seen tokens</td><td>46080</td></tr><tr><td>train acc</td><td>0.242</td></tr><tr><td>train loss</td><td>4.0322</td></tr><tr><td>val acc</td><td>0.1172</td></tr><tr><td>val loss</td><td>6.1762</td></tr></table><br/></div></div>"
      ],
      "text/plain": [
       "<IPython.core.display.HTML object>"
      ]
     },
     "metadata": {},
     "output_type": "display_data"
    },
    {
     "data": {
      "text/html": [
       " View run <strong style=\"color:#cdcd00\">accuracy round 2</strong> at: <a href='https://wandb.ai/hawardizayee-unitedhealthcare/Foundation_models/runs/f9q9kazy' target=\"_blank\">https://wandb.ai/hawardizayee-unitedhealthcare/Foundation_models/runs/f9q9kazy</a><br> View project at: <a href='https://wandb.ai/hawardizayee-unitedhealthcare/Foundation_models' target=\"_blank\">https://wandb.ai/hawardizayee-unitedhealthcare/Foundation_models</a><br>Synced 5 W&B file(s), 0 media file(s), 0 artifact file(s) and 0 other file(s)"
      ],
      "text/plain": [
       "<IPython.core.display.HTML object>"
      ]
     },
     "metadata": {},
     "output_type": "display_data"
    },
    {
     "data": {
      "text/html": [
       "Find logs at: <code>./wandb/run-20250512_191843-f9q9kazy/logs</code>"
      ],
      "text/plain": [
       "<IPython.core.display.HTML object>"
      ]
     },
     "metadata": {},
     "output_type": "display_data"
    }
   ],
   "source": [
    "wandb.finish()"
   ]
  },
  {
   "cell_type": "code",
   "execution_count": null,
   "metadata": {},
   "outputs": [],
   "source": []
  }
 ],
 "metadata": {
  "kernelspec": {
   "display_name": ".venv",
   "language": "python",
   "name": "python3"
  },
  "language_info": {
   "codemirror_mode": {
    "name": "ipython",
    "version": 3
   },
   "file_extension": ".py",
   "mimetype": "text/x-python",
   "name": "python",
   "nbconvert_exporter": "python",
   "pygments_lexer": "ipython3",
   "version": "3.12.1"
  }
 },
 "nbformat": 4,
 "nbformat_minor": 2
}
