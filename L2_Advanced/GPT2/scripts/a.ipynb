{
 "cells": [
  {
   "cell_type": "code",
   "execution_count": 1,
   "metadata": {},
   "outputs": [],
   "source": [
    "import sys \n",
    "\n",
    "\n",
    "sys.path.append(\"..\")\n",
    "\n",
    "import torch\n",
    "from torch import nn"
   ]
  },
  {
   "cell_type": "code",
   "execution_count": 2,
   "metadata": {},
   "outputs": [],
   "source": [
    "import tiktoken\n",
    "from data.dataset import Data\n",
    "from data.dataloader import get_data_loader"
   ]
  },
  {
   "cell_type": "code",
   "execution_count": 3,
   "metadata": {},
   "outputs": [],
   "source": [
    "with open(\"/Users/hawardzaee/Desktop/Galaxy/MyLabV2/Foundation-LLM-from-scratch/L2_Advanced/GPT2/data/the-verdict.txt\",\"r\") as f:\n",
    "    raw_text = f.read()\n",
    "\n"
   ]
  },
  {
   "cell_type": "code",
   "execution_count": 4,
   "metadata": {},
   "outputs": [
    {
     "name": "stdout",
     "output_type": "stream",
     "text": [
      "tensor([[   40,   367],\n",
      "        [ 2885,  1464],\n",
      "        [ 1807,  3619],\n",
      "        [  402,   271],\n",
      "        [10899,  2138],\n",
      "        [  257,  7026],\n",
      "        [15632,   438],\n",
      "        [ 2016,   257],\n",
      "        [  922,  5891],\n",
      "        [ 1576,   438]])\n",
      "tensor([[  367,  2885],\n",
      "        [ 1464,  1807],\n",
      "        [ 3619,   402],\n",
      "        [  271, 10899],\n",
      "        [ 2138,   257],\n",
      "        [ 7026, 15632],\n",
      "        [  438,  2016],\n",
      "        [  257,   922],\n",
      "        [ 5891,  1576],\n",
      "        [  438,   568]])\n"
     ]
    }
   ],
   "source": [
    "dataset = Data(\n",
    "    raw_text=raw_text,\n",
    "    tokenizer=tiktoken.get_encoding(\"gpt2\"),\n",
    "    context_length=2,\n",
    "    stride=2\n",
    ")\n",
    "\n",
    "data_dl = get_data_loader(dataset,batch_size=10,shuffle=False,drop_last=True,num_workers=0)\n",
    "\n",
    "for x,y in data_dl:\n",
    "    print(x)\n",
    "    print(y)\n",
    "    break\n"
   ]
  },
  {
   "cell_type": "code",
   "execution_count": null,
   "metadata": {},
   "outputs": [],
   "source": []
  }
 ],
 "metadata": {
  "kernelspec": {
   "display_name": ".venv",
   "language": "python",
   "name": "python3"
  },
  "language_info": {
   "codemirror_mode": {
    "name": "ipython",
    "version": 3
   },
   "file_extension": ".py",
   "mimetype": "text/x-python",
   "name": "python",
   "nbconvert_exporter": "python",
   "pygments_lexer": "ipython3",
   "version": "3.12.1"
  }
 },
 "nbformat": 4,
 "nbformat_minor": 2
}
