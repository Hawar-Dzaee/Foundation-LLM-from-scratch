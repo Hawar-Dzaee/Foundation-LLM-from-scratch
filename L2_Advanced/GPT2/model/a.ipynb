{
 "cells": [
  {
   "cell_type": "code",
   "execution_count": 1,
   "metadata": {},
   "outputs": [
    {
     "ename": "ModuleNotFoundError",
     "evalue": "No module named 'data'",
     "output_type": "error",
     "traceback": [
      "\u001b[31m---------------------------------------------------------------------------\u001b[39m",
      "\u001b[31mModuleNotFoundError\u001b[39m                       Traceback (most recent call last)",
      "\u001b[36mCell\u001b[39m\u001b[36m \u001b[39m\u001b[32mIn[1]\u001b[39m\u001b[32m, line 1\u001b[39m\n\u001b[32m----> \u001b[39m\u001b[32m1\u001b[39m \u001b[38;5;28;01mfrom\u001b[39;00m\u001b[38;5;250m \u001b[39m\u001b[34;01mdata\u001b[39;00m\u001b[34;01m.\u001b[39;00m\u001b[34;01mdataloader\u001b[39;00m\u001b[38;5;250m \u001b[39m\u001b[38;5;28;01mimport\u001b[39;00m get_data_loader\n",
      "\u001b[31mModuleNotFoundError\u001b[39m: No module named 'data'"
     ]
    }
   ],
   "source": [
    "from data.dataloader import get_data_loader"
   ]
  },
  {
   "cell_type": "code",
   "execution_count": 4,
   "metadata": {},
   "outputs": [],
   "source": [
    "with open(\"the-verdict.txt\",\"r\") as f:\n",
    "    raw_text = f.read()\n",
    "\n"
   ]
  },
  {
   "cell_type": "code",
   "execution_count": 5,
   "metadata": {},
   "outputs": [
    {
     "name": "stdout",
     "output_type": "stream",
     "text": [
      "tensor([[   40,   367],\n",
      "        [ 2885,  1464],\n",
      "        [ 1807,  3619],\n",
      "        [  402,   271],\n",
      "        [10899,  2138],\n",
      "        [  257,  7026],\n",
      "        [15632,   438],\n",
      "        [ 2016,   257],\n",
      "        [  922,  5891],\n",
      "        [ 1576,   438]])\n",
      "tensor([[  367,  2885],\n",
      "        [ 1464,  1807],\n",
      "        [ 3619,   402],\n",
      "        [  271, 10899],\n",
      "        [ 2138,   257],\n",
      "        [ 7026, 15632],\n",
      "        [  438,  2016],\n",
      "        [  257,   922],\n",
      "        [ 5891,  1576],\n",
      "        [  438,   568]])\n"
     ]
    }
   ],
   "source": [
    "data_dl = get_data_loader(raw_text,\n",
    "                          tokenizer= tiktoken.get_encoding(\"gpt2\"),\n",
    "                          context_length=2,\n",
    "                          stride=2,\n",
    "                          batch_size=10,\n",
    "                          shuffle=False,\n",
    "                          drop_last=True,\n",
    "                          num_workers=0)\n",
    "for x,y in data_dl:\n",
    "    print(x)\n",
    "    print(y)\n",
    "    break"
   ]
  },
  {
   "cell_type": "code",
   "execution_count": null,
   "metadata": {},
   "outputs": [],
   "source": []
  }
 ],
 "metadata": {
  "kernelspec": {
   "display_name": ".venv",
   "language": "python",
   "name": "python3"
  },
  "language_info": {
   "codemirror_mode": {
    "name": "ipython",
    "version": 3
   },
   "file_extension": ".py",
   "mimetype": "text/x-python",
   "name": "python",
   "nbconvert_exporter": "python",
   "pygments_lexer": "ipython3",
   "version": "3.12.1"
  }
 },
 "nbformat": 4,
 "nbformat_minor": 2
}
