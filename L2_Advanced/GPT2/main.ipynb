{
 "cells": [
  {
   "cell_type": "code",
   "execution_count": 1,
   "metadata": {},
   "outputs": [],
   "source": [
    "import yaml\n",
    "import tiktoken\n",
    "import torch\n",
    "from torch import nn\n",
    "\n",
    "from dataset import Data,SpamDataset\n",
    "from dataloader import get_data_loader\n",
    "from embeddings import Embeddings\n",
    "from transformer_block import TransformerBlock\n",
    "from gpt2 import GPT2Model\n",
    "from utils import text_to_tokens,tokens_to_text,generate_text\n",
    "from loss import cross_entropy\n",
    "from train import traininng_loop\n",
    "from evaluation import eval\n",
    "\n",
    "with open(\"config.yaml\",\"r\") as f:\n",
    "    config = yaml.safe_load(f)"
   ]
  },
  {
   "cell_type": "code",
   "execution_count": 2,
   "metadata": {},
   "outputs": [],
   "source": [
    "torch.set_printoptions(sci_mode=False,precision=10)"
   ]
  },
  {
   "cell_type": "code",
   "execution_count": 3,
   "metadata": {},
   "outputs": [
    {
     "data": {
      "text/plain": [
       "5145"
      ]
     },
     "execution_count": 3,
     "metadata": {},
     "output_type": "execute_result"
    }
   ],
   "source": [
    "with open(\"the-verdict.txt\",\"r\") as f:\n",
    "    raw_text = f.read()\n",
    "\n",
    "len(text_to_tokens(raw_text)[0])"
   ]
  },
  {
   "cell_type": "code",
   "execution_count": 21,
   "metadata": {},
   "outputs": [],
   "source": [
    "train_dateset = SpamDataset(\n",
    "    csv_path='sms+spam+collection/train.csv',\n",
    "    tokenizer=tiktoken.get_encoding(\"gpt2\"),\n",
    "    max_len=None\n",
    ")\n",
    "valid_dataset = SpamDataset(\n",
    "    csv_path='sms+spam+collection/val.csv',\n",
    "    tokenizer=tiktoken.get_encoding(\"gpt2\"),\n",
    "    max_len=train_dateset.max_len\n",
    ")\n",
    "\n",
    "test_dataset = SpamDataset(\n",
    "    csv_path='sms+spam+collection/test.csv',\n",
    "    tokenizer=tiktoken.get_encoding(\"gpt2\"),\n",
    "    max_len=train_dateset.max_len\n",
    ")\n",
    "\n",
    "train_dl = get_data_loader(\n",
    "    train_dateset,batch_size=32,shuffle=False,drop_last=True,num_workers=0\n",
    ")\n",
    "\n",
    "valid_dl = get_data_loader(\n",
    "    valid_dataset,batch_size=32,shuffle=False,drop_last=True,num_workers=0\n",
    ")\n",
    "\n",
    "test_dl = get_data_loader(\n",
    "    test_dataset,batch_size=32,shuffle=False,drop_last=True,num_workers=0\n",
    ")"
   ]
  },
  {
   "cell_type": "code",
   "execution_count": 4,
   "metadata": {},
   "outputs": [
    {
     "ename": "NameError",
     "evalue": "name 'train_dateset' is not defined",
     "output_type": "error",
     "traceback": [
      "\u001b[31m---------------------------------------------------------------------------\u001b[39m",
      "\u001b[31mNameError\u001b[39m                                 Traceback (most recent call last)",
      "\u001b[36mCell\u001b[39m\u001b[36m \u001b[39m\u001b[32mIn[4]\u001b[39m\u001b[32m, line 1\u001b[39m\n\u001b[32m----> \u001b[39m\u001b[32m1\u001b[39m \u001b[43mtrain_dateset\u001b[49m.max_len\n",
      "\u001b[31mNameError\u001b[39m: name 'train_dateset' is not defined"
     ]
    }
   ],
   "source": [
    "train_dateset.max_len"
   ]
  },
  {
   "cell_type": "code",
   "execution_count": 18,
   "metadata": {},
   "outputs": [
    {
     "name": "stdout",
     "output_type": "stream",
     "text": [
      "tensor([[ 3855,   534, 11376,  ..., 50256, 50256, 50256],\n",
      "        [ 9690,   329,   534,  ..., 50256, 50256, 50256],\n",
      "        [ 3103,  3304,   616,  ..., 50256, 50256, 50256],\n",
      "        ...,\n",
      "        [ 4261,    38,  3525,  ..., 50256, 50256, 50256],\n",
      "        [ 1026,   338,   266,  ..., 50256, 50256, 50256],\n",
      "        [30099,  1576,    11,  ..., 50256, 50256, 50256]])\n",
      "torch.Size([32, 118])\n",
      "----------------------------------------------------------------------------------------------------\n",
      "tensor([1, 1, 0, 0, 0, 1, 0, 0, 1, 0, 1, 0, 0, 0, 1, 0, 0, 1, 0, 0, 1, 0, 1, 0,\n",
      "        0, 1, 0, 1, 0, 1, 0, 0])\n"
     ]
    }
   ],
   "source": [
    "for x,y in train_dl:\n",
    "    print(x)\n",
    "    print(x.shape)\n",
    "    print('-'*100)\n",
    "    print(y)\n",
    "    break"
   ]
  },
  {
   "cell_type": "code",
   "execution_count": 4,
   "metadata": {},
   "outputs": [],
   "source": [
    "train_ratio = 0.9\n",
    "split_index = int(len(raw_text) * train_ratio)\n",
    "train_text = raw_text[:split_index]\n",
    "val_text = raw_text[split_index:]\n"
   ]
  },
  {
   "cell_type": "markdown",
   "metadata": {},
   "source": [
    "# Dataset "
   ]
  },
  {
   "cell_type": "code",
   "execution_count": 5,
   "metadata": {},
   "outputs": [],
   "source": [
    "train_dataset = Data(\n",
    "    raw_text=train_text,\n",
    "    tokenizer=tiktoken.get_encoding(\"gpt2\"),\n",
    "    context_length=config[\"context_window\"],\n",
    "    stride=config[\"stride\"]\n",
    ")\n",
    "\n",
    "val_dataset = Data(\n",
    "    raw_text=val_text,\n",
    "    tokenizer=tiktoken.get_encoding(\"gpt2\"),\n",
    "    context_length=config[\"context_window\"],\n",
    "    stride=config[\"stride\"]\n",
    ")\n"
   ]
  },
  {
   "cell_type": "markdown",
   "metadata": {},
   "source": [
    "# Dataloader "
   ]
  },
  {
   "cell_type": "code",
   "execution_count": 6,
   "metadata": {},
   "outputs": [],
   "source": [
    "train_dl = get_data_loader(\n",
    "    train_dataset,\n",
    "    batch_size=config[\"batch_size\"],\n",
    "    shuffle=config[\"shuffle\"],\n",
    "    drop_last=config[\"drop_last\"],\n",
    "    num_workers=config[\"num_workers\"]\n",
    "    )\n",
    "\n",
    "val_dl = get_data_loader(\n",
    "    val_dataset,\n",
    "    batch_size=config[\"batch_size\"],\n",
    "    shuffle=config[\"shuffle\"],\n",
    "    drop_last=config[\"drop_last\"],\n",
    "    num_workers=config[\"num_workers\"]\n",
    ")\n"
   ]
  },
  {
   "cell_type": "code",
   "execution_count": 7,
   "metadata": {},
   "outputs": [],
   "source": [
    "# for x,y in train_dl:\n",
    "#     print(x.shape)\n",
    "#     print(y.shape)\n",
    "#     break"
   ]
  },
  {
   "cell_type": "code",
   "execution_count": 8,
   "metadata": {},
   "outputs": [],
   "source": [
    "# train_tokens = 0 \n",
    "# for x,y in train_dl:\n",
    "#     train_tokens += x.numel()\n",
    "# print(f\"Train tokens: {train_tokens}\")\n",
    "\n",
    "# val_tokens = 0\n",
    "# for x,y in val_dl:\n",
    "#     val_tokens += x.numel()\n",
    "# print(f\"Val tokens: {val_tokens}\")\n",
    "\n",
    "\n",
    "# print(f'total tokens: {train_tokens + val_tokens}')"
   ]
  },
  {
   "cell_type": "code",
   "execution_count": 9,
   "metadata": {},
   "outputs": [
    {
     "name": "stdout",
     "output_type": "stream",
     "text": [
      "torch.Size([32, 10, 2])\n"
     ]
    }
   ],
   "source": [
    "config['num_classes'] = 2\n",
    "\n",
    "model = GPT2Model(config)\n",
    "\n",
    "with torch.no_grad():\n",
    "    logits = model(torch.randint(0,50257,(32,10)))\n",
    "    print(logits.shape)\n"
   ]
  },
  {
   "cell_type": "code",
   "execution_count": 10,
   "metadata": {},
   "outputs": [],
   "source": [
    "optimizer = torch.optim.AdamW(model.parameters(),lr=0.0004)"
   ]
  },
  {
   "cell_type": "code",
   "execution_count": 11,
   "metadata": {},
   "outputs": [
    {
     "name": "stderr",
     "output_type": "stream",
     "text": [
      "2025-04-29 19:12:29,535 - INFO - Epoch 1/10\n",
      "2025-04-29 19:12:44,508 - INFO - Seen tokens: 4608\n",
      "2025-04-29 19:12:44,510 - INFO - Loss: 9.1975\n",
      "2025-04-29 19:12:44,781 - INFO - Validation Loss: 7.7019\n",
      "2025-04-29 19:12:45,422 - INFO - Generated text: Every single step...                 \n",
      "2025-04-29 19:12:45,422 - INFO - ==================================================\n",
      "2025-04-29 19:12:45,423 - INFO - Epoch 2/10\n",
      "2025-04-29 19:12:57,431 - INFO - Seen tokens: 9216\n",
      "2025-04-29 19:12:57,433 - INFO - Loss: 6.6992\n",
      "2025-04-29 19:12:57,651 - INFO - Validation Loss: 6.7359\n",
      "2025-04-29 19:12:58,294 - INFO - Generated text: Every single step                    \n",
      "2025-04-29 19:12:58,295 - INFO - ==================================================\n",
      "2025-04-29 19:12:58,295 - INFO - Epoch 3/10\n",
      "2025-04-29 19:13:07,063 - INFO - Seen tokens: 13824\n",
      "2025-04-29 19:13:07,064 - INFO - Loss: 7.2867\n",
      "2025-04-29 19:13:07,281 - INFO - Validation Loss: 6.6831\n",
      "2025-04-29 19:13:08,020 - INFO - Generated text: Every single step the the the the the the the the the the the the the the the the the the the the\n",
      "2025-04-29 19:13:08,021 - INFO - ==================================================\n",
      "2025-04-29 19:13:08,021 - INFO - Epoch 4/10\n",
      "2025-04-29 19:13:16,744 - INFO - Seen tokens: 18432\n",
      "2025-04-29 19:13:16,746 - INFO - Loss: 5.8364\n",
      "2025-04-29 19:13:16,954 - INFO - Validation Loss: 6.5969\n",
      "2025-04-29 19:13:17,597 - INFO - Generated text: Every single step the his the-- the a the a the a of the a the the the a the of the\n",
      "2025-04-29 19:13:17,598 - INFO - ==================================================\n",
      "2025-04-29 19:13:17,598 - INFO - Epoch 5/10\n",
      "2025-04-29 19:13:27,194 - INFO - Seen tokens: 23040\n",
      "2025-04-29 19:13:27,195 - INFO - Loss: 5.5236\n",
      "2025-04-29 19:13:27,432 - INFO - Validation Loss: 6.4437\n",
      "2025-04-29 19:13:28,076 - INFO - Generated text: Every single step, and, and, and, and in the, and he was a, and.  \n",
      "2025-04-29 19:13:28,076 - INFO - ==================================================\n",
      "2025-04-29 19:13:28,077 - INFO - Epoch 6/10\n",
      "2025-04-29 19:13:38,178 - INFO - Seen tokens: 27648\n",
      "2025-04-29 19:13:38,180 - INFO - Loss: 4.9270\n",
      "2025-04-29 19:13:38,411 - INFO - Validation Loss: 6.2615\n",
      "2025-04-29 19:13:39,030 - INFO - Generated text: Every single step, and, I had been the a of the, and in the. \"--and.\n",
      "2025-04-29 19:13:39,031 - INFO - ==================================================\n",
      "2025-04-29 19:13:39,031 - INFO - Epoch 7/10\n",
      "2025-04-29 19:13:48,947 - INFO - Seen tokens: 32256\n",
      "2025-04-29 19:13:48,949 - INFO - Loss: 4.1193\n",
      "2025-04-29 19:13:49,177 - INFO - Validation Loss: 6.2056\n",
      "2025-04-29 19:13:49,783 - INFO - Generated text: Every single step.                   \n",
      "2025-04-29 19:13:49,784 - INFO - ==================================================\n",
      "2025-04-29 19:13:49,784 - INFO - Epoch 8/10\n",
      "2025-04-29 19:14:00,211 - INFO - Seen tokens: 36864\n",
      "2025-04-29 19:14:00,213 - INFO - Loss: 3.3440\n",
      "2025-04-29 19:14:00,453 - INFO - Validation Loss: 6.2170\n",
      "2025-04-29 19:14:01,056 - INFO - Generated text: Every single step sun of Jack's to have been to have to face the fact with the of a.  \n",
      "2025-04-29 19:14:01,056 - INFO - ==================================================\n",
      "2025-04-29 19:14:01,057 - INFO - Epoch 9/10\n",
      "2025-04-29 19:14:10,920 - INFO - Seen tokens: 41472\n",
      "2025-04-29 19:14:10,922 - INFO - Loss: 2.6070\n",
      "2025-04-29 19:14:11,157 - INFO - Validation Loss: 6.2274\n",
      "2025-04-29 19:14:11,786 - INFO - Generated text: Every single step, in the inevitable garlanded to of the--I-rooms, so--so it was\n",
      "2025-04-29 19:14:11,786 - INFO - ==================================================\n",
      "2025-04-29 19:14:11,786 - INFO - Epoch 10/10\n",
      "2025-04-29 19:14:22,777 - INFO - Seen tokens: 46080\n",
      "2025-04-29 19:14:22,779 - INFO - Loss: 1.9398\n",
      "2025-04-29 19:14:23,017 - INFO - Validation Loss: 6.3376\n",
      "2025-04-29 19:14:23,683 - INFO - Generated text: Every single step, as he was not to the picture of the--I of the. \"I-rooms\n",
      "2025-04-29 19:14:23,684 - INFO - ==================================================\n"
     ]
    }
   ],
   "source": [
    "traininng_loop(\n",
    "    model,\n",
    "    train_dl,\n",
    "    val_dl,\n",
    "    loss_fn = cross_entropy,\n",
    "    optimizer = optimizer,\n",
    "    num_epochs = 10,\n",
    "    device = \"cpu\",\n",
    "    text_to_generate = \"Every single step\",\n",
    "    look_back = config[\"context_window\"],\n",
    "    num_tokens_to_generate = config[\"num_tokens_to_generate\"],\n",
    ")"
   ]
  },
  {
   "cell_type": "code",
   "execution_count": 14,
   "metadata": {},
   "outputs": [],
   "source": [
    "torch.save(model.state_dict(),\"model.pth\")"
   ]
  },
  {
   "cell_type": "code",
   "execution_count": 12,
   "metadata": {},
   "outputs": [
    {
     "name": "stderr",
     "output_type": "stream",
     "text": [
      "2025-04-29 19:14:24,002 - INFO - Validation Loss: 6.3376\n"
     ]
    }
   ],
   "source": [
    "eval(\n",
    "    model,\n",
    "    val_loader=val_dl,\n",
    "    loss_fn= cross_entropy,\n",
    "    device='cpu'\n",
    ")"
   ]
  },
  {
   "cell_type": "code",
   "execution_count": 16,
   "metadata": {},
   "outputs": [
    {
     "data": {
      "text/plain": [
       "'Hello what is  in her work to paint, the mant---'"
      ]
     },
     "execution_count": 16,
     "metadata": {},
     "output_type": "execute_result"
    }
   ],
   "source": [
    "generate_text(\n",
    "    \"Hello what is \",\n",
    "    model = model, \n",
    "    device = \"cpu\",\n",
    "    look_back=20,\n",
    "    num_tokens_to_generate=10,\n",
    "    temperature=2.0,\n",
    "    top_k=20,\n",
    ")"
   ]
  },
  {
   "cell_type": "code",
   "execution_count": null,
   "metadata": {},
   "outputs": [],
   "source": []
  }
 ],
 "metadata": {
  "kernelspec": {
   "display_name": ".venv",
   "language": "python",
   "name": "python3"
  },
  "language_info": {
   "codemirror_mode": {
    "name": "ipython",
    "version": 3
   },
   "file_extension": ".py",
   "mimetype": "text/x-python",
   "name": "python",
   "nbconvert_exporter": "python",
   "pygments_lexer": "ipython3",
   "version": "3.12.1"
  }
 },
 "nbformat": 4,
 "nbformat_minor": 2
}
