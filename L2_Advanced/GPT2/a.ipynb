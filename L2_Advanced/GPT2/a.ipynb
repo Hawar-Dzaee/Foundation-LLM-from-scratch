{
 "cells": [
  {
   "cell_type": "code",
   "execution_count": 1,
   "metadata": {},
   "outputs": [],
   "source": [
    "import yaml\n",
    "import tiktoken\n",
    "import torch\n",
    "from torch import nn\n",
    "\n",
    "from dataset import Data\n",
    "from dataloader import get_data_loader\n",
    "from embeddings import Embeddings\n",
    "from transformer_block import TransformerBlock\n",
    "from gpt2 import GPT2Model\n",
    "from utils import text_to_tokens,tokens_to_text"
   ]
  },
  {
   "cell_type": "code",
   "execution_count": 2,
   "metadata": {},
   "outputs": [
    {
     "data": {
      "text/plain": [
       "[15496, 11, 703, 389, 220, 50256, 30]"
      ]
     },
     "execution_count": 2,
     "metadata": {},
     "output_type": "execute_result"
    }
   ],
   "source": [
    "tokenizer = tiktoken.get_encoding(\"gpt2\")\n",
    "tokenizer.encode(\"Hello, how are <|endoftext|>?\",allowed_special={'<|endoftext|>'})"
   ]
  },
  {
   "cell_type": "code",
   "execution_count": 5,
   "metadata": {},
   "outputs": [
    {
     "name": "stdout",
     "output_type": "stream",
     "text": [
      "tensor([[15496,    11,   703,   389,   220, 50256,    30]])\n",
      "Hello, how are <|endoftext|>?\n"
     ]
    }
   ],
   "source": [
    "text = \"Hello, how are <|endoftext|>?\"\n",
    "tokens = text_to_tokens(text)\n",
    "print(tokens)\n",
    "\n",
    "print(tokens_to_text(tokens))\n"
   ]
  },
  {
   "cell_type": "code",
   "execution_count": 2,
   "metadata": {},
   "outputs": [],
   "source": [
    "with open(\"the-verdict.txt\",\"r\") as f:\n",
    "    raw_text = f.read()"
   ]
  },
  {
   "cell_type": "code",
   "execution_count": 3,
   "metadata": {},
   "outputs": [
    {
     "data": {
      "text/plain": [
       "{'dropout': 0.0,\n",
       " 'vocab_size': 50257,\n",
       " 'embedding_dim': 4,\n",
       " 'stride': 3,\n",
       " 'batch_size': 2,\n",
       " 'shuffle': False,\n",
       " 'drop_last': True,\n",
       " 'num_workers': 0,\n",
       " 'context_window': 4,\n",
       " 'num_heads': 2,\n",
       " 'Q_K_V_bias': False,\n",
       " 'kv_bias': False,\n",
       " 'batch_first': True,\n",
       " 'device': None,\n",
       " 'n_layers': 2}"
      ]
     },
     "execution_count": 3,
     "metadata": {},
     "output_type": "execute_result"
    }
   ],
   "source": [
    "with open(\"config.yaml\",\"r\") as f:\n",
    "    config = yaml.safe_load(f)\n",
    "\n",
    "config"
   ]
  },
  {
   "cell_type": "code",
   "execution_count": 4,
   "metadata": {},
   "outputs": [
    {
     "name": "stdout",
     "output_type": "stream",
     "text": [
      "tensor([[  40,  367, 2885, 1464],\n",
      "        [1464, 1807, 3619,  402]])\n",
      "tensor([[ 367, 2885, 1464, 1807],\n",
      "        [1807, 3619,  402,  271]])\n"
     ]
    }
   ],
   "source": [
    "dataset = Data(\n",
    "    raw_text=raw_text,\n",
    "    tokenizer=tiktoken.get_encoding(\"gpt2\"),\n",
    "    context_length=config[\"context_window\"],\n",
    "    stride=config[\"stride\"]\n",
    ")\n",
    "\n",
    "data_dl = get_data_loader(\n",
    "    dataset,\n",
    "    batch_size=config[\"batch_size\"],\n",
    "    shuffle=config[\"shuffle\"],\n",
    "    drop_last=config[\"drop_last\"],\n",
    "    num_workers=config[\"num_workers\"]\n",
    "    )\n",
    "\n",
    "\n",
    "for x,y in data_dl:\n",
    "    print(x)\n",
    "    print(y)\n",
    "    break"
   ]
  },
  {
   "cell_type": "code",
   "execution_count": 5,
   "metadata": {},
   "outputs": [
    {
     "data": {
      "text/plain": [
       "tensor([[[-0.0874,  1.2459, -0.1492,  ...,  0.7775,  0.4876,  0.2839],\n",
       "         [ 0.2384,  0.9003, -0.2390,  ...,  0.5699,  0.3505,  0.4885],\n",
       "         [-0.9144,  0.4846,  0.7778,  ..., -0.8264, -1.0812,  0.0228],\n",
       "         [-1.5046,  1.5470,  0.3529,  ...,  0.3029,  0.0484, -0.5471]],\n",
       "\n",
       "        [[-0.2793,  1.0643, -0.5660,  ...,  0.6920,  0.7035,  0.0178],\n",
       "         [-1.0551,  1.5422, -0.3246,  ...,  0.7930,  0.7368, -0.4537],\n",
       "         [-0.8954,  0.8422,  0.8463,  ..., -0.4559, -0.8643,  0.0516],\n",
       "         [-1.2100,  0.1386,  0.4338,  ..., -1.1689, -1.0753, -0.2888]]],\n",
       "       grad_fn=<ViewBackward0>)"
      ]
     },
     "execution_count": 5,
     "metadata": {},
     "output_type": "execute_result"
    }
   ],
   "source": [
    "model = GPT2Model(config)\n",
    "\n",
    "model(x)"
   ]
  },
  {
   "cell_type": "code",
   "execution_count": 6,
   "metadata": {},
   "outputs": [
    {
     "data": {
      "text/plain": [
       "torch.Size([2, 4, 50257])"
      ]
     },
     "execution_count": 6,
     "metadata": {},
     "output_type": "execute_result"
    }
   ],
   "source": [
    "model(x).shape"
   ]
  },
  {
   "cell_type": "code",
   "execution_count": null,
   "metadata": {},
   "outputs": [],
   "source": []
  }
 ],
 "metadata": {
  "kernelspec": {
   "display_name": ".venv",
   "language": "python",
   "name": "python3"
  },
  "language_info": {
   "codemirror_mode": {
    "name": "ipython",
    "version": 3
   },
   "file_extension": ".py",
   "mimetype": "text/x-python",
   "name": "python",
   "nbconvert_exporter": "python",
   "pygments_lexer": "ipython3",
   "version": "3.12.1"
  }
 },
 "nbformat": 4,
 "nbformat_minor": 2
}
