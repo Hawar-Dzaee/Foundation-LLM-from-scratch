{
 "cells": [
  {
   "cell_type": "code",
   "execution_count": 1,
   "metadata": {},
   "outputs": [],
   "source": [
    "import yaml\n",
    "import tiktoken\n",
    "import torch\n",
    "from torch import nn\n",
    "\n",
    "from dataset import Data\n",
    "from dataloader import get_data_loader\n",
    "from embeddings import Embeddings\n",
    "from transformer_block import TransformerBlock\n",
    "from gpt2 import GPT2Model\n",
    "from utils import text_to_tokens,tokens_to_text,generate_text\n",
    "from loss import cross_entropy\n",
    "from train import traininng_loop\n",
    "\n",
    "with open(\"config.yaml\",\"r\") as f:\n",
    "    config = yaml.safe_load(f)"
   ]
  },
  {
   "cell_type": "code",
   "execution_count": 2,
   "metadata": {},
   "outputs": [
    {
     "data": {
      "text/plain": [
       "5145"
      ]
     },
     "execution_count": 2,
     "metadata": {},
     "output_type": "execute_result"
    }
   ],
   "source": [
    "with open(\"the-verdict.txt\",\"r\") as f:\n",
    "    raw_text = f.read()\n",
    "\n",
    "len(text_to_tokens(raw_text)[0])"
   ]
  },
  {
   "cell_type": "code",
   "execution_count": 3,
   "metadata": {},
   "outputs": [],
   "source": [
    "train_ratio = 0.9\n",
    "split_index = int(len(raw_text) * train_ratio)\n",
    "train_text = raw_text[:split_index]\n",
    "val_text = raw_text[split_index:]\n"
   ]
  },
  {
   "cell_type": "markdown",
   "metadata": {},
   "source": [
    "# Dataset "
   ]
  },
  {
   "cell_type": "code",
   "execution_count": 4,
   "metadata": {},
   "outputs": [],
   "source": [
    "train_dataset = Data(\n",
    "    raw_text=train_text,\n",
    "    tokenizer=tiktoken.get_encoding(\"gpt2\"),\n",
    "    context_length=config[\"context_window\"],\n",
    "    stride=config[\"stride\"]\n",
    ")\n",
    "\n",
    "val_dataset = Data(\n",
    "    raw_text=val_text,\n",
    "    tokenizer=tiktoken.get_encoding(\"gpt2\"),\n",
    "    context_length=config[\"context_window\"],\n",
    "    stride=config[\"stride\"]\n",
    ")\n"
   ]
  },
  {
   "cell_type": "markdown",
   "metadata": {},
   "source": [
    "# Dataloader "
   ]
  },
  {
   "cell_type": "code",
   "execution_count": 5,
   "metadata": {},
   "outputs": [],
   "source": [
    "train_dl = get_data_loader(\n",
    "    train_dataset,\n",
    "    batch_size=config[\"batch_size\"],\n",
    "    shuffle=config[\"shuffle\"],\n",
    "    drop_last=config[\"drop_last\"],\n",
    "    num_workers=config[\"num_workers\"]\n",
    "    )\n",
    "\n",
    "val_dl = get_data_loader(\n",
    "    val_dataset,\n",
    "    batch_size=config[\"batch_size\"],\n",
    "    shuffle=config[\"shuffle\"],\n",
    "    drop_last=config[\"drop_last\"],\n",
    "    num_workers=config[\"num_workers\"]\n",
    ")\n"
   ]
  },
  {
   "cell_type": "code",
   "execution_count": 6,
   "metadata": {},
   "outputs": [
    {
     "name": "stdout",
     "output_type": "stream",
     "text": [
      "torch.Size([2, 256])\n",
      "torch.Size([2, 256])\n"
     ]
    }
   ],
   "source": [
    "for x,y in train_dl:\n",
    "    print(x.shape)\n",
    "    print(y.shape)\n",
    "    break"
   ]
  },
  {
   "cell_type": "code",
   "execution_count": 7,
   "metadata": {},
   "outputs": [
    {
     "data": {
      "text/plain": [
       "2"
      ]
     },
     "execution_count": 7,
     "metadata": {},
     "output_type": "execute_result"
    }
   ],
   "source": [
    "train_dl.batch_size"
   ]
  },
  {
   "cell_type": "code",
   "execution_count": 8,
   "metadata": {},
   "outputs": [
    {
     "data": {
      "text/plain": [
       "512"
      ]
     },
     "execution_count": 8,
     "metadata": {},
     "output_type": "execute_result"
    }
   ],
   "source": [
    "x.numel()"
   ]
  },
  {
   "cell_type": "code",
   "execution_count": 9,
   "metadata": {},
   "outputs": [
    {
     "name": "stdout",
     "output_type": "stream",
     "text": [
      "Train tokens: 4608\n",
      "Val tokens: 512\n",
      "total tokens: 5120\n"
     ]
    }
   ],
   "source": [
    "train_tokens = 0 \n",
    "for x,y in train_dl:\n",
    "    train_tokens += x.numel()\n",
    "print(f\"Train tokens: {train_tokens}\")\n",
    "\n",
    "val_tokens = 0\n",
    "for x,y in val_dl:\n",
    "    val_tokens += x.numel()\n",
    "print(f\"Val tokens: {val_tokens}\")\n",
    "\n",
    "\n",
    "print(f'total tokens: {train_tokens + val_tokens}')"
   ]
  },
  {
   "cell_type": "code",
   "execution_count": 10,
   "metadata": {},
   "outputs": [
    {
     "name": "stdout",
     "output_type": "stream",
     "text": [
      "torch.Size([2, 256, 50257])\n"
     ]
    }
   ],
   "source": [
    "model = GPT2Model(config)\n",
    "\n",
    "with torch.no_grad():\n",
    "    logits = model(x)\n",
    "    print(logits.shape)\n"
   ]
  },
  {
   "cell_type": "code",
   "execution_count": 11,
   "metadata": {},
   "outputs": [],
   "source": [
    "optimizer = torch.optim.AdamW(model.parameters(),lr=0.0004)"
   ]
  },
  {
   "cell_type": "code",
   "execution_count": 12,
   "metadata": {},
   "outputs": [
    {
     "name": "stderr",
     "output_type": "stream",
     "text": [
      "2025-04-28 11:58:27,402 - INFO - Epoch 1/10\n",
      "2025-04-28 11:58:40,431 - INFO - Seen tokens: 4608\n",
      "2025-04-28 11:58:40,433 - INFO - Loss: 9.1495\n",
      "2025-04-28 11:58:40,675 - INFO - Validation Loss: 7.6709\n",
      "2025-04-28 11:58:41,287 - INFO - Generated text: Every single step....................\n",
      "2025-04-28 11:58:41,288 - INFO - ==================================================\n",
      "2025-04-28 11:58:41,288 - INFO - Epoch 2/10\n",
      "2025-04-28 11:58:51,335 - INFO - Seen tokens: 9216\n",
      "2025-04-28 11:58:51,338 - INFO - Loss: 6.6612\n",
      "2025-04-28 11:58:51,569 - INFO - Validation Loss: 6.7470\n",
      "2025-04-28 11:58:52,152 - INFO - Generated text: Every single step                    \n",
      "2025-04-28 11:58:52,152 - INFO - ==================================================\n",
      "2025-04-28 11:58:52,153 - INFO - Epoch 3/10\n",
      "2025-04-28 11:59:03,362 - INFO - Seen tokens: 13824\n",
      "2025-04-28 11:59:03,364 - INFO - Loss: 8.2623\n",
      "2025-04-28 11:59:03,637 - INFO - Validation Loss: 6.5521\n",
      "2025-04-28 11:59:04,291 - INFO - Generated text: Every single step\"\"\"I.               \n",
      "2025-04-28 11:59:04,292 - INFO - ==================================================\n",
      "2025-04-28 11:59:04,292 - INFO - Epoch 4/10\n",
      "2025-04-28 11:59:16,246 - INFO - Seen tokens: 18432\n",
      "2025-04-28 11:59:16,248 - INFO - Loss: 5.5259\n",
      "2025-04-28 11:59:16,482 - INFO - Validation Loss: 6.3235\n",
      "2025-04-28 11:59:17,093 - INFO - Generated text: Every single step, I had I had been the fact.           \n",
      "2025-04-28 11:59:17,094 - INFO - ==================================================\n",
      "2025-04-28 11:59:17,094 - INFO - Epoch 5/10\n",
      "2025-04-28 11:59:24,415 - INFO - Seen tokens: 23040\n",
      "2025-04-28 11:59:24,417 - INFO - Loss: 4.7084\n",
      "2025-04-28 11:59:24,632 - INFO - Validation Loss: 6.2176\n",
      "2025-04-28 11:59:25,184 - INFO - Generated text: Every single step, in the was, and I felt.           \n",
      "2025-04-28 11:59:25,184 - INFO - ==================================================\n",
      "2025-04-28 11:59:25,185 - INFO - Epoch 6/10\n",
      "2025-04-28 11:59:32,356 - INFO - Seen tokens: 27648\n",
      "2025-04-28 11:59:32,357 - INFO - Loss: 3.8060\n",
      "2025-04-28 11:59:32,564 - INFO - Validation Loss: 6.1664\n",
      "2025-04-28 11:59:33,092 - INFO - Generated text: Every single step the of the was not that my host.           \n",
      "2025-04-28 11:59:33,092 - INFO - ==================================================\n",
      "2025-04-28 11:59:33,092 - INFO - Epoch 7/10\n",
      "2025-04-28 11:59:40,744 - INFO - Seen tokens: 32256\n",
      "2025-04-28 11:59:40,746 - INFO - Loss: 2.9133\n",
      "2025-04-28 11:59:40,946 - INFO - Validation Loss: 6.2105\n",
      "2025-04-28 11:59:41,561 - INFO - Generated text: Every single step you know my was not that my hostess was \"interesting\": on that point I could have been\n",
      "2025-04-28 11:59:41,561 - INFO - ==================================================\n",
      "2025-04-28 11:59:41,562 - INFO - Epoch 8/10\n",
      "2025-04-28 11:59:49,816 - INFO - Seen tokens: 36864\n",
      "2025-04-28 11:59:49,818 - INFO - Loss: 2.0461\n",
      "2025-04-28 11:59:50,036 - INFO - Validation Loss: 6.2526\n",
      "2025-04-28 11:59:50,616 - INFO - Generated text: Every single step you?\"  \"Yes--I glanced after he had been the tips of a little: \"\n",
      "2025-04-28 11:59:50,617 - INFO - ==================================================\n",
      "2025-04-28 11:59:50,617 - INFO - Epoch 9/10\n",
      "2025-04-28 11:59:58,077 - INFO - Seen tokens: 41472\n",
      "2025-04-28 11:59:58,079 - INFO - Loss: 1.3035\n",
      "2025-04-28 11:59:58,314 - INFO - Validation Loss: 6.2990\n",
      "2025-04-28 11:59:58,936 - INFO - Generated text: Every single step you?\"  \"Yes--quite insensible to the irony. \"I could have my\n",
      "2025-04-28 11:59:58,936 - INFO - ==================================================\n",
      "2025-04-28 11:59:58,937 - INFO - Epoch 10/10\n",
      "2025-04-28 12:00:07,140 - INFO - Seen tokens: 46080\n",
      "2025-04-28 12:00:07,142 - INFO - Loss: 0.7577\n",
      "2025-04-28 12:00:07,359 - INFO - Validation Loss: 6.3616\n",
      "2025-04-28 12:00:07,921 - INFO - Generated text: Every single step you?\"  \"Yes--quite insensible to the irony. She wanted him vindicated--\n",
      "2025-04-28 12:00:07,921 - INFO - ==================================================\n"
     ]
    }
   ],
   "source": [
    "traininng_loop(\n",
    "    model,\n",
    "    train_dl,\n",
    "    val_dl,\n",
    "    loss_fn = cross_entropy,\n",
    "    optimizer = optimizer,\n",
    "    num_epochs = 10,\n",
    "    device = \"cpu\",\n",
    "    text_to_generate = \"Every single step\",\n",
    "    look_back = config[\"context_window\"],\n",
    "    num_tokens_to_generate = config[\"num_tokens_to_generate\"],\n",
    ")"
   ]
  },
  {
   "cell_type": "code",
   "execution_count": 13,
   "metadata": {},
   "outputs": [
    {
     "data": {
      "text/plain": [
       "'Every single step you?\"  \"Yes--quite insensible to the irony. She wanted him vindicated--'"
      ]
     },
     "execution_count": 13,
     "metadata": {},
     "output_type": "execute_result"
    }
   ],
   "source": [
    "generate_text(\n",
    "    text_to_generate = \"Every single step\",\n",
    "    model = model,\n",
    "    device = \"cpu\",\n",
    "    look_back = config[\"context_window\"],\n",
    "    num_tokens_to_generate = config[\"num_tokens_to_generate\"],\n",
    ")"
   ]
  },
  {
   "cell_type": "code",
   "execution_count": null,
   "metadata": {},
   "outputs": [],
   "source": []
  }
 ],
 "metadata": {
  "kernelspec": {
   "display_name": ".venv",
   "language": "python",
   "name": "python3"
  },
  "language_info": {
   "codemirror_mode": {
    "name": "ipython",
    "version": 3
   },
   "file_extension": ".py",
   "mimetype": "text/x-python",
   "name": "python",
   "nbconvert_exporter": "python",
   "pygments_lexer": "ipython3",
   "version": "3.12.1"
  }
 },
 "nbformat": 4,
 "nbformat_minor": 2
}
