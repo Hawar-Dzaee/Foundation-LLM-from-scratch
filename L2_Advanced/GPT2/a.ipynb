{
 "cells": [
  {
   "cell_type": "code",
   "execution_count": 1,
   "metadata": {},
   "outputs": [],
   "source": [
    "import yaml\n",
    "import tiktoken\n",
    "import torch\n",
    "from torch import nn\n",
    "\n",
    "from dataset import Data\n",
    "from dataloader import get_data_loader\n",
    "from embeddings import Embeddings\n",
    "from transformer_block import TransformerBlock\n",
    "from gpt2 import GPT2Model\n",
    "from utils import text_to_tokens,tokens_to_text,generate_text\n",
    "from loss import cross_entropy\n",
    "from train import traininng_loop\n",
    "\n",
    "with open(\"config.yaml\",\"r\") as f:\n",
    "    config = yaml.safe_load(f)"
   ]
  },
  {
   "cell_type": "code",
   "execution_count": 2,
   "metadata": {},
   "outputs": [
    {
     "data": {
      "text/plain": [
       "5145"
      ]
     },
     "execution_count": 2,
     "metadata": {},
     "output_type": "execute_result"
    }
   ],
   "source": [
    "with open(\"the-verdict.txt\",\"r\") as f:\n",
    "    raw_text = f.read()\n",
    "\n",
    "len(text_to_tokens(raw_text)[0])"
   ]
  },
  {
   "cell_type": "code",
   "execution_count": 3,
   "metadata": {},
   "outputs": [],
   "source": [
    "train_ratio = 0.9\n",
    "split_index = int(len(raw_text) * train_ratio)\n",
    "train_text = raw_text[:split_index]\n",
    "val_text = raw_text[split_index:]\n"
   ]
  },
  {
   "cell_type": "markdown",
   "metadata": {},
   "source": [
    "# Dataset "
   ]
  },
  {
   "cell_type": "code",
   "execution_count": 4,
   "metadata": {},
   "outputs": [],
   "source": [
    "train_dataset = Data(\n",
    "    raw_text=train_text,\n",
    "    tokenizer=tiktoken.get_encoding(\"gpt2\"),\n",
    "    context_length=config[\"context_window\"],\n",
    "    stride=config[\"stride\"]\n",
    ")\n",
    "\n",
    "val_dataset = Data(\n",
    "    raw_text=val_text,\n",
    "    tokenizer=tiktoken.get_encoding(\"gpt2\"),\n",
    "    context_length=config[\"context_window\"],\n",
    "    stride=config[\"stride\"]\n",
    ")\n"
   ]
  },
  {
   "cell_type": "markdown",
   "metadata": {},
   "source": [
    "# Dataloader "
   ]
  },
  {
   "cell_type": "code",
   "execution_count": 5,
   "metadata": {},
   "outputs": [],
   "source": [
    "train_dl = get_data_loader(\n",
    "    train_dataset,\n",
    "    batch_size=config[\"batch_size\"],\n",
    "    shuffle=config[\"shuffle\"],\n",
    "    drop_last=config[\"drop_last\"],\n",
    "    num_workers=config[\"num_workers\"]\n",
    "    )\n",
    "\n",
    "val_dl = get_data_loader(\n",
    "    val_dataset,\n",
    "    batch_size=config[\"batch_size\"],\n",
    "    shuffle=config[\"shuffle\"],\n",
    "    drop_last=config[\"drop_last\"],\n",
    "    num_workers=config[\"num_workers\"]\n",
    ")\n"
   ]
  },
  {
   "cell_type": "code",
   "execution_count": 6,
   "metadata": {},
   "outputs": [
    {
     "name": "stdout",
     "output_type": "stream",
     "text": [
      "torch.Size([2, 256])\n",
      "torch.Size([2, 256])\n"
     ]
    }
   ],
   "source": [
    "for x,y in train_dl:\n",
    "    print(x.shape)\n",
    "    print(y.shape)\n",
    "    break"
   ]
  },
  {
   "cell_type": "code",
   "execution_count": 7,
   "metadata": {},
   "outputs": [
    {
     "data": {
      "text/plain": [
       "2"
      ]
     },
     "execution_count": 7,
     "metadata": {},
     "output_type": "execute_result"
    }
   ],
   "source": [
    "train_dl.batch_size"
   ]
  },
  {
   "cell_type": "code",
   "execution_count": 8,
   "metadata": {},
   "outputs": [
    {
     "data": {
      "text/plain": [
       "512"
      ]
     },
     "execution_count": 8,
     "metadata": {},
     "output_type": "execute_result"
    }
   ],
   "source": [
    "x.numel()"
   ]
  },
  {
   "cell_type": "code",
   "execution_count": 9,
   "metadata": {},
   "outputs": [
    {
     "name": "stdout",
     "output_type": "stream",
     "text": [
      "Train tokens: 4608\n",
      "Val tokens: 512\n",
      "total tokens: 5120\n"
     ]
    }
   ],
   "source": [
    "train_tokens = 0 \n",
    "for x,y in train_dl:\n",
    "    train_tokens += x.numel()\n",
    "print(f\"Train tokens: {train_tokens}\")\n",
    "\n",
    "val_tokens = 0\n",
    "for x,y in val_dl:\n",
    "    val_tokens += x.numel()\n",
    "print(f\"Val tokens: {val_tokens}\")\n",
    "\n",
    "\n",
    "print(f'total tokens: {train_tokens + val_tokens}')"
   ]
  },
  {
   "cell_type": "code",
   "execution_count": 10,
   "metadata": {},
   "outputs": [
    {
     "name": "stdout",
     "output_type": "stream",
     "text": [
      "torch.Size([2, 256, 50257])\n"
     ]
    }
   ],
   "source": [
    "model = GPT2Model(config)\n",
    "\n",
    "with torch.no_grad():\n",
    "    logits = model(x)\n",
    "    print(logits.shape)\n"
   ]
  },
  {
   "cell_type": "code",
   "execution_count": 11,
   "metadata": {},
   "outputs": [],
   "source": [
    "optimizer = torch.optim.AdamW(model.parameters(),lr=0.001)"
   ]
  },
  {
   "cell_type": "code",
   "execution_count": 12,
   "metadata": {},
   "outputs": [
    {
     "name": "stderr",
     "output_type": "stream",
     "text": [
      "2025-04-28 10:34:11,482 - INFO - Epoch 1/10\n",
      "2025-04-28 10:34:22,993 - INFO - Loss: 8.520448154873318\n",
      "2025-04-28 10:34:22,995 - INFO - Epoch 2/10\n",
      "2025-04-28 10:34:33,419 - INFO - Loss: 7.529747486114502\n",
      "2025-04-28 10:34:33,421 - INFO - Epoch 3/10\n",
      "2025-04-28 10:34:46,783 - INFO - Loss: 6.087440437740749\n",
      "2025-04-28 10:34:46,785 - INFO - Epoch 4/10\n",
      "2025-04-28 10:34:57,059 - INFO - Loss: 5.935275077819824\n",
      "2025-04-28 10:34:57,060 - INFO - Epoch 5/10\n",
      "2025-04-28 10:35:08,493 - INFO - Loss: 5.851986090342204\n",
      "2025-04-28 10:35:08,495 - INFO - Epoch 6/10\n",
      "2025-04-28 10:35:19,613 - INFO - Loss: 5.750375270843506\n",
      "2025-04-28 10:35:19,615 - INFO - Epoch 7/10\n",
      "2025-04-28 10:35:31,279 - INFO - Loss: 5.759007665846083\n",
      "2025-04-28 10:35:31,282 - INFO - Epoch 8/10\n",
      "2025-04-28 10:35:40,790 - INFO - Loss: 5.75902975930108\n",
      "2025-04-28 10:35:40,792 - INFO - Epoch 9/10\n",
      "2025-04-28 10:35:51,593 - INFO - Loss: 5.4895776642693415\n",
      "2025-04-28 10:35:51,595 - INFO - Epoch 10/10\n",
      "2025-04-28 10:36:06,303 - INFO - Loss: 5.25975047217475\n"
     ]
    }
   ],
   "source": [
    "traininng_loop(\n",
    "    model,\n",
    "    train_dl,\n",
    "    loss_fn = cross_entropy,\n",
    "    optimizer = optimizer,\n",
    "    num_epochs = 10,\n",
    "    device = \"cpu\"\n",
    ")"
   ]
  },
  {
   "cell_type": "code",
   "execution_count": null,
   "metadata": {},
   "outputs": [],
   "source": []
  }
 ],
 "metadata": {
  "kernelspec": {
   "display_name": ".venv",
   "language": "python",
   "name": "python3"
  },
  "language_info": {
   "codemirror_mode": {
    "name": "ipython",
    "version": 3
   },
   "file_extension": ".py",
   "mimetype": "text/x-python",
   "name": "python",
   "nbconvert_exporter": "python",
   "pygments_lexer": "ipython3",
   "version": "3.12.1"
  }
 },
 "nbformat": 4,
 "nbformat_minor": 2
}
