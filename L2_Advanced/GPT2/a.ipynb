{
 "cells": [
  {
   "cell_type": "code",
   "execution_count": 1,
   "metadata": {},
   "outputs": [],
   "source": [
    "import yaml\n",
    "import tiktoken\n",
    "import torch\n",
    "from torch import nn\n",
    "\n",
    "from dataset import Data\n",
    "from dataloader import get_data_loader\n",
    "from embeddings import Embeddings\n",
    "from transformer_block import TransformerBlock\n",
    "from gpt2 import GPT2Model\n",
    "from utils import text_to_tokens,tokens_to_text,generate_text\n",
    "from loss import cross_entropy\n",
    "from train import traininng_loop\n",
    "from evaluation import eval\n",
    "\n",
    "with open(\"config.yaml\",\"r\") as f:\n",
    "    config = yaml.safe_load(f)"
   ]
  },
  {
   "cell_type": "code",
   "execution_count": 2,
   "metadata": {},
   "outputs": [
    {
     "data": {
      "text/plain": [
       "5145"
      ]
     },
     "execution_count": 2,
     "metadata": {},
     "output_type": "execute_result"
    }
   ],
   "source": [
    "with open(\"the-verdict.txt\",\"r\") as f:\n",
    "    raw_text = f.read()\n",
    "\n",
    "len(text_to_tokens(raw_text)[0])"
   ]
  },
  {
   "cell_type": "code",
   "execution_count": 3,
   "metadata": {},
   "outputs": [],
   "source": [
    "train_ratio = 0.9\n",
    "split_index = int(len(raw_text) * train_ratio)\n",
    "train_text = raw_text[:split_index]\n",
    "val_text = raw_text[split_index:]\n"
   ]
  },
  {
   "cell_type": "markdown",
   "metadata": {},
   "source": [
    "# Dataset "
   ]
  },
  {
   "cell_type": "code",
   "execution_count": 4,
   "metadata": {},
   "outputs": [],
   "source": [
    "train_dataset = Data(\n",
    "    raw_text=train_text,\n",
    "    tokenizer=tiktoken.get_encoding(\"gpt2\"),\n",
    "    context_length=config[\"context_window\"],\n",
    "    stride=config[\"stride\"]\n",
    ")\n",
    "\n",
    "val_dataset = Data(\n",
    "    raw_text=val_text,\n",
    "    tokenizer=tiktoken.get_encoding(\"gpt2\"),\n",
    "    context_length=config[\"context_window\"],\n",
    "    stride=config[\"stride\"]\n",
    ")\n"
   ]
  },
  {
   "cell_type": "markdown",
   "metadata": {},
   "source": [
    "# Dataloader "
   ]
  },
  {
   "cell_type": "code",
   "execution_count": 5,
   "metadata": {},
   "outputs": [],
   "source": [
    "train_dl = get_data_loader(\n",
    "    train_dataset,\n",
    "    batch_size=config[\"batch_size\"],\n",
    "    shuffle=config[\"shuffle\"],\n",
    "    drop_last=config[\"drop_last\"],\n",
    "    num_workers=config[\"num_workers\"]\n",
    "    )\n",
    "\n",
    "val_dl = get_data_loader(\n",
    "    val_dataset,\n",
    "    batch_size=config[\"batch_size\"],\n",
    "    shuffle=config[\"shuffle\"],\n",
    "    drop_last=config[\"drop_last\"],\n",
    "    num_workers=config[\"num_workers\"]\n",
    ")\n"
   ]
  },
  {
   "cell_type": "code",
   "execution_count": 6,
   "metadata": {},
   "outputs": [],
   "source": [
    "# for x,y in train_dl:\n",
    "#     print(x.shape)\n",
    "#     print(y.shape)\n",
    "#     break"
   ]
  },
  {
   "cell_type": "code",
   "execution_count": 7,
   "metadata": {},
   "outputs": [],
   "source": [
    "# train_tokens = 0 \n",
    "# for x,y in train_dl:\n",
    "#     train_tokens += x.numel()\n",
    "# print(f\"Train tokens: {train_tokens}\")\n",
    "\n",
    "# val_tokens = 0\n",
    "# for x,y in val_dl:\n",
    "#     val_tokens += x.numel()\n",
    "# print(f\"Val tokens: {val_tokens}\")\n",
    "\n",
    "\n",
    "# print(f'total tokens: {train_tokens + val_tokens}')"
   ]
  },
  {
   "cell_type": "code",
   "execution_count": 8,
   "metadata": {},
   "outputs": [],
   "source": [
    "model = GPT2Model(config)\n",
    "\n",
    "# with torch.no_grad():\n",
    "#     logits = model(x)\n",
    "#     print(logits.shape)\n"
   ]
  },
  {
   "cell_type": "code",
   "execution_count": 9,
   "metadata": {},
   "outputs": [],
   "source": [
    "optimizer = torch.optim.AdamW(model.parameters(),lr=0.0004)"
   ]
  },
  {
   "cell_type": "code",
   "execution_count": 10,
   "metadata": {},
   "outputs": [
    {
     "name": "stderr",
     "output_type": "stream",
     "text": [
      "2025-04-29 19:01:19,588 - INFO - Epoch 1/10\n",
      "2025-04-29 19:01:31,784 - INFO - Seen tokens: 4608\n",
      "2025-04-29 19:01:31,786 - INFO - Loss: 9.1594\n",
      "2025-04-29 19:01:32,006 - INFO - Validation Loss: 7.7434\n",
      "2025-04-29 19:01:32,662 - INFO - Generated text: Every single step....................\n",
      "2025-04-29 19:01:32,662 - INFO - ==================================================\n",
      "2025-04-29 19:01:32,662 - INFO - Epoch 2/10\n",
      "2025-04-29 19:01:46,405 - INFO - Seen tokens: 9216\n",
      "2025-04-29 19:01:46,407 - INFO - Loss: 6.6630\n",
      "2025-04-29 19:01:46,643 - INFO - Validation Loss: 6.7265\n",
      "2025-04-29 19:01:47,237 - INFO - Generated text: Every single step                    \n",
      "2025-04-29 19:01:47,237 - INFO - ==================================================\n",
      "2025-04-29 19:01:47,238 - INFO - Epoch 3/10\n",
      "2025-04-29 19:02:01,673 - INFO - Seen tokens: 13824\n",
      "2025-04-29 19:02:01,676 - INFO - Loss: 5.9025\n",
      "2025-04-29 19:02:01,933 - INFO - Validation Loss: 6.6246\n",
      "2025-04-29 19:02:02,674 - INFO - Generated text: Every single step                    \n",
      "2025-04-29 19:02:02,674 - INFO - ==================================================\n",
      "2025-04-29 19:02:02,674 - INFO - Epoch 4/10\n",
      "2025-04-29 19:02:15,649 - INFO - Seen tokens: 18432\n",
      "2025-04-29 19:02:15,651 - INFO - Loss: 5.7566\n",
      "2025-04-29 19:02:15,848 - INFO - Validation Loss: 6.5941\n",
      "2025-04-29 19:02:16,392 - INFO - Generated text: Every single step I.                  \n",
      "2025-04-29 19:02:16,392 - INFO - ==================================================\n",
      "2025-04-29 19:02:16,392 - INFO - Epoch 5/10\n",
      "2025-04-29 19:02:25,940 - INFO - Seen tokens: 23040\n",
      "2025-04-29 19:02:25,942 - INFO - Loss: 5.4828\n",
      "2025-04-29 19:02:26,251 - INFO - Validation Loss: 6.4639\n",
      "2025-04-29 19:02:27,036 - INFO - Generated text: Every single step,, in,, in the, and, in the, in the of the, in,\n",
      "2025-04-29 19:02:27,036 - INFO - ==================================================\n",
      "2025-04-29 19:02:27,036 - INFO - Epoch 6/10\n",
      "2025-04-29 19:02:38,867 - INFO - Seen tokens: 27648\n",
      "2025-04-29 19:02:38,869 - INFO - Loss: 4.7764\n",
      "2025-04-29 19:02:39,117 - INFO - Validation Loss: 6.2410\n",
      "2025-04-29 19:02:39,818 - INFO - Generated text: Every single step of of the.                \n",
      "2025-04-29 19:02:39,818 - INFO - ==================================================\n",
      "2025-04-29 19:02:39,819 - INFO - Epoch 7/10\n",
      "2025-04-29 19:02:50,190 - INFO - Seen tokens: 32256\n",
      "2025-04-29 19:02:50,192 - INFO - Loss: 4.0069\n",
      "2025-04-29 19:02:50,427 - INFO - Validation Loss: 6.2118\n",
      "2025-04-29 19:02:51,078 - INFO - Generated text: Every single step he was he was not that he a cheap genius--I a good fellow enough--I was not\n",
      "2025-04-29 19:02:51,078 - INFO - ==================================================\n",
      "2025-04-29 19:02:51,078 - INFO - Epoch 8/10\n",
      "2025-04-29 19:03:04,187 - INFO - Seen tokens: 36864\n",
      "2025-04-29 19:03:04,190 - INFO - Loss: 3.1349\n",
      "2025-04-29 19:03:04,441 - INFO - Validation Loss: 6.2148\n",
      "2025-04-29 19:03:05,148 - INFO - Generated text: Every single step, in the. Gisburn--and it--I of the fact--and. Gis\n",
      "2025-04-29 19:03:05,148 - INFO - ==================================================\n",
      "2025-04-29 19:03:05,149 - INFO - Epoch 9/10\n",
      "2025-04-29 19:03:18,369 - INFO - Seen tokens: 41472\n",
      "2025-04-29 19:03:18,372 - INFO - Loss: 2.2805\n",
      "2025-04-29 19:03:18,611 - INFO - Validation Loss: 6.2085\n",
      "2025-04-29 19:03:19,238 - INFO - Generated text: Every single step sunlit terrace.            \"--as\n",
      "2025-04-29 19:03:19,238 - INFO - ==================================================\n",
      "2025-04-29 19:03:19,239 - INFO - Epoch 10/10\n",
      "2025-04-29 19:03:32,511 - INFO - Seen tokens: 46080\n",
      "2025-04-29 19:03:32,514 - INFO - Loss: 1.5320\n",
      "2025-04-29 19:03:32,761 - INFO - Validation Loss: 6.3283\n",
      "2025-04-29 19:03:33,464 - INFO - Generated text: Every single step sunlit terrace.               \n",
      "2025-04-29 19:03:33,465 - INFO - ==================================================\n"
     ]
    }
   ],
   "source": [
    "traininng_loop(\n",
    "    model,\n",
    "    train_dl,\n",
    "    val_dl,\n",
    "    loss_fn = cross_entropy,\n",
    "    optimizer = optimizer,\n",
    "    num_epochs = 10,\n",
    "    device = \"cpu\",\n",
    "    text_to_generate = \"Every single step\",\n",
    "    look_back = config[\"context_window\"],\n",
    "    num_tokens_to_generate = config[\"num_tokens_to_generate\"],\n",
    ")"
   ]
  },
  {
   "cell_type": "code",
   "execution_count": 11,
   "metadata": {},
   "outputs": [
    {
     "name": "stderr",
     "output_type": "stream",
     "text": [
      "2025-04-29 19:03:33,786 - INFO - Validation Loss: 6.3283\n"
     ]
    }
   ],
   "source": [
    "eval(\n",
    "    model,\n",
    "    val_loader=val_dl,\n",
    "    loss_fn= cross_entropy,\n",
    "    device='cpu'\n",
    ")"
   ]
  },
  {
   "cell_type": "code",
   "execution_count": 12,
   "metadata": {},
   "outputs": [
    {
     "data": {
      "text/plain": [
       "'Every single step sunlit terrace.               '"
      ]
     },
     "execution_count": 12,
     "metadata": {},
     "output_type": "execute_result"
    }
   ],
   "source": [
    "generate_text(\n",
    "    text_to_generate = \"Every single step\",\n",
    "    model = model,\n",
    "    device = \"cpu\",\n",
    "    look_back = config[\"context_window\"],\n",
    "    num_tokens_to_generate = config[\"num_tokens_to_generate\"],\n",
    ")"
   ]
  },
  {
   "cell_type": "code",
   "execution_count": 13,
   "metadata": {},
   "outputs": [],
   "source": [
    "torch.set_printoptions(sci_mode=False,precision=10)"
   ]
  },
  {
   "cell_type": "code",
   "execution_count": 14,
   "metadata": {},
   "outputs": [],
   "source": [
    "\n"
   ]
  },
  {
   "cell_type": "code",
   "execution_count": 29,
   "metadata": {},
   "outputs": [
    {
     "data": {
      "text/plain": [
       "'Hello what is  he he _ \"Yes-- of all I haven'"
      ]
     },
     "execution_count": 29,
     "metadata": {},
     "output_type": "execute_result"
    }
   ],
   "source": [
    "generate_text(\n",
    "    \"Hello what is \",\n",
    "    model = model, \n",
    "    device = \"cpu\",\n",
    "    look_back=20,\n",
    "    num_tokens_to_generate=10,\n",
    "    temperature=2.0,\n",
    "    top_k=20,\n",
    ")"
   ]
  },
  {
   "cell_type": "code",
   "execution_count": 16,
   "metadata": {},
   "outputs": [
    {
     "data": {
      "text/plain": [
       "1e-07"
      ]
     },
     "execution_count": 16,
     "metadata": {},
     "output_type": "execute_result"
    }
   ],
   "source": [
    "1e-7"
   ]
  },
  {
   "cell_type": "code",
   "execution_count": null,
   "metadata": {},
   "outputs": [],
   "source": []
  }
 ],
 "metadata": {
  "kernelspec": {
   "display_name": ".venv",
   "language": "python",
   "name": "python3"
  },
  "language_info": {
   "codemirror_mode": {
    "name": "ipython",
    "version": 3
   },
   "file_extension": ".py",
   "mimetype": "text/x-python",
   "name": "python",
   "nbconvert_exporter": "python",
   "pygments_lexer": "ipython3",
   "version": "3.12.1"
  }
 },
 "nbformat": 4,
 "nbformat_minor": 2
}
