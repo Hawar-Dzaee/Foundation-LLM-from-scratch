{
 "cells": [
  {
   "cell_type": "code",
   "execution_count": 6,
   "metadata": {},
   "outputs": [],
   "source": [
    "import yaml\n",
    "import tiktoken\n",
    "import torch\n",
    "from torch import nn\n",
    "\n",
    "from dataset import Data\n",
    "from dataloader import get_data_loader\n",
    "from embeddings import Embeddings"
   ]
  },
  {
   "cell_type": "code",
   "execution_count": 7,
   "metadata": {},
   "outputs": [],
   "source": [
    "with open(\"the-verdict.txt\",\"r\") as f:\n",
    "    raw_text = f.read()"
   ]
  },
  {
   "cell_type": "code",
   "execution_count": 8,
   "metadata": {},
   "outputs": [
    {
     "data": {
      "text/plain": [
       "{'dropout': 0.0,\n",
       " 'vocab_size': 50257,\n",
       " 'embedding_dim': 4,\n",
       " 'stride': 3,\n",
       " 'batch_size': 2,\n",
       " 'shuffle': False,\n",
       " 'drop_last': True,\n",
       " 'num_workers': 0,\n",
       " 'context_window': 4,\n",
       " 'num_heads': 2,\n",
       " 'Q_K_V_bias': False,\n",
       " 'kv_bias': False,\n",
       " 'batch_first': True,\n",
       " 'device': 'None'}"
      ]
     },
     "execution_count": 8,
     "metadata": {},
     "output_type": "execute_result"
    }
   ],
   "source": [
    "with open(\"config.yaml\",\"r\") as f:\n",
    "    config = yaml.safe_load(f)\n",
    "\n",
    "config"
   ]
  },
  {
   "cell_type": "code",
   "execution_count": 9,
   "metadata": {},
   "outputs": [
    {
     "name": "stdout",
     "output_type": "stream",
     "text": [
      "tensor([[  40,  367, 2885, 1464],\n",
      "        [1464, 1807, 3619,  402]])\n",
      "tensor([[ 367, 2885, 1464, 1807],\n",
      "        [1807, 3619,  402,  271]])\n"
     ]
    }
   ],
   "source": [
    "dataset = Data(\n",
    "    raw_text=raw_text,\n",
    "    tokenizer=tiktoken.get_encoding(\"gpt2\"),\n",
    "    context_length=config[\"context_window\"],\n",
    "    stride=config[\"stride\"]\n",
    ")\n",
    "\n",
    "data_dl = get_data_loader(\n",
    "    dataset,\n",
    "    batch_size=config[\"batch_size\"],\n",
    "    shuffle=config[\"shuffle\"],\n",
    "    drop_last=config[\"drop_last\"],\n",
    "    num_workers=config[\"num_workers\"]\n",
    "    )\n",
    "\n",
    "\n",
    "for x,y in data_dl:\n",
    "    print(x)\n",
    "    print(y)\n",
    "    break"
   ]
  },
  {
   "cell_type": "code",
   "execution_count": 10,
   "metadata": {},
   "outputs": [
    {
     "data": {
      "text/plain": [
       "torch.Size([2, 4, 4])"
      ]
     },
     "execution_count": 10,
     "metadata": {},
     "output_type": "execute_result"
    }
   ],
   "source": [
    "torch.manual_seed(1)\n",
    "embeddings = Embeddings(config[\"vocab_size\"],config[\"embedding_dim\"],config[\"context_window\"])\n",
    "embeddings(x).shape"
   ]
  },
  {
   "cell_type": "code",
   "execution_count": 20,
   "metadata": {},
   "outputs": [
    {
     "data": {
      "text/plain": [
       "(tensor([[[-0.4241,  0.6136, -0.1740, -0.2770],\n",
       "          [ 0.7650, -1.0892,  0.2287,  0.5502],\n",
       "          [ 0.2196, -0.3521,  0.0163,  0.1996],\n",
       "          [-0.6354,  0.8560, -0.2052, -0.4196]],\n",
       " \n",
       "         [[-0.3849,  0.5611, -0.1167, -0.2752],\n",
       "          [ 0.4433, -0.6210,  0.1290,  0.3138],\n",
       "          [-0.1959,  0.2642, -0.0645, -0.1274],\n",
       "          [ 0.3374, -0.5271,  0.1019,  0.2624]]], grad_fn=<TransposeBackward0>),\n",
       " tensor([[[0.2145, 0.3449, 0.3053, 0.1353],\n",
       "          [0.2208, 0.2725, 0.0953, 0.4114],\n",
       "          [0.2913, 0.2127, 0.2495, 0.2465],\n",
       "          [0.1243, 0.4615, 0.2270, 0.1872]],\n",
       " \n",
       "         [[0.1887, 0.4303, 0.2013, 0.1797],\n",
       "          [0.2776, 0.1693, 0.1586, 0.3945],\n",
       "          [0.2087, 0.3465, 0.2416, 0.2032],\n",
       "          [0.3228, 0.2291, 0.2677, 0.1803]]], grad_fn=<MeanBackward1>))"
      ]
     },
     "execution_count": 20,
     "metadata": {},
     "output_type": "execute_result"
    }
   ],
   "source": [
    "torch.manual_seed(1)\n",
    "mha_instance = nn.MultiheadAttention(\n",
    "    embed_dim=config['embedding_dim'],\n",
    "    num_heads= config['num_heads'],\n",
    "    batch_first= config['batch_first'],\n",
    "    bias= config['Q_K_V_bias'],\n",
    "    add_bias_kv= config['kv_bias'],\n",
    "    dropout= config['dropout'],\n",
    "    device= None \n",
    ")\n",
    "mha_instance(embeddings(x),embeddings(x),embeddings(x))"
   ]
  },
  {
   "cell_type": "code",
   "execution_count": null,
   "metadata": {},
   "outputs": [],
   "source": []
  }
 ],
 "metadata": {
  "kernelspec": {
   "display_name": ".venv",
   "language": "python",
   "name": "python3"
  },
  "language_info": {
   "codemirror_mode": {
    "name": "ipython",
    "version": 3
   },
   "file_extension": ".py",
   "mimetype": "text/x-python",
   "name": "python",
   "nbconvert_exporter": "python",
   "pygments_lexer": "ipython3",
   "version": "3.12.1"
  }
 },
 "nbformat": 4,
 "nbformat_minor": 2
}
